{
 "cells": [
  {
   "cell_type": "markdown",
   "id": "f392859e-2772-4764-ad13-962c54fbeee4",
   "metadata": {},
   "source": [
    "# Transformers 模型量化技术：AWQ"
   ]
  },
  {
   "cell_type": "code",
   "execution_count": 1,
   "id": "5ce87dba-e543-4329-a5ae-d83febee50f2",
   "metadata": {},
   "outputs": [
    {
     "name": "stdout",
     "output_type": "stream",
     "text": [
      "/bin/bash: /root/miniconda3/lib/libtinfo.so.6: no version information available (required by /bin/bash)\n",
      "accelerate                0.26.1\n",
      "datasets                  4.0.0\n",
      "torch                     2.7.0+cu128\n",
      "transformers              4.54.1\n"
     ]
    }
   ],
   "source": [
    "# 或者一次性列出所有已安装包及其版本（可搜索关键词）\n",
    "!pip list | grep -E \"torch|transformers|accelerate|bitsandbytes|datasets|optimum\""
   ]
  },
  {
   "cell_type": "code",
   "execution_count": 2,
   "id": "1b1673c1-0270-40d1-8968-b39b923b27f6",
   "metadata": {},
   "outputs": [
    {
     "name": "stdout",
     "output_type": "stream",
     "text": [
      "/bin/bash: /root/miniconda3/lib/libtinfo.so.6: no version information available (required by /bin/bash)\n",
      "Sun Aug  3 00:49:52 2025       \n",
      "+-----------------------------------------------------------------------------------------+\n",
      "| NVIDIA-SMI 570.133.07             Driver Version: 572.83         CUDA Version: 12.8     |\n",
      "|-----------------------------------------+------------------------+----------------------+\n",
      "| GPU  Name                 Persistence-M | Bus-Id          Disp.A | Volatile Uncorr. ECC |\n",
      "| Fan  Temp   Perf          Pwr:Usage/Cap |           Memory-Usage | GPU-Util  Compute M. |\n",
      "|                                         |                        |               MIG M. |\n",
      "|=========================================+========================+======================|\n",
      "|   0  NVIDIA GeForce RTX 3080        On  |   00000000:0B:00.0  On |                  N/A |\n",
      "| 33%   43C    P8             36W /  320W |    1819MiB /  10240MiB |      7%      Default |\n",
      "|                                         |                        |                  N/A |\n",
      "+-----------------------------------------+------------------------+----------------------+\n",
      "                                                                                         \n",
      "+-----------------------------------------------------------------------------------------+\n",
      "| Processes:                                                                              |\n",
      "|  GPU   GI   CI              PID   Type   Process name                        GPU Memory |\n",
      "|        ID   ID                                                               Usage      |\n",
      "|=========================================================================================|\n",
      "|    0   N/A  N/A              39      G   /Xwayland                             N/A      |\n",
      "+-----------------------------------------------------------------------------------------+\n"
     ]
    }
   ],
   "source": [
    "!nvidia-smi"
   ]
  },
  {
   "cell_type": "code",
   "execution_count": 3,
   "id": "054a4a56-8d87-4e27-9ee7-86d886bf5105",
   "metadata": {},
   "outputs": [
    {
     "name": "stdout",
     "output_type": "stream",
     "text": [
      "True\n",
      "12.8\n"
     ]
    }
   ],
   "source": [
    "import torch\n",
    "print(torch.cuda.is_available())  # 应输出True\n",
    "print(torch.version.cuda)  # 应与nvcc -V显示的版本一致（或兼容）"
   ]
  },
  {
   "cell_type": "code",
   "execution_count": 4,
   "id": "008bd982-9fa5-4ef7-a7e8-8193dd02409b",
   "metadata": {},
   "outputs": [],
   "source": [
    "import os\n",
    "os.environ[\"HF_ENDPOINT\"] = \"https://hf-mirror.com\""
   ]
  },
  {
   "cell_type": "code",
   "execution_count": 5,
   "id": "e6a1481a-3e00-475c-84d7-104c2d080e73",
   "metadata": {},
   "outputs": [
    {
     "name": "stderr",
     "output_type": "stream",
     "text": [
      "Device set to use cuda:0\n"
     ]
    }
   ],
   "source": [
    "from transformers import pipeline\n",
    "\n",
    "model_path = \"TinyLlama/TinyLlama-1.1B-Chat-v1.0\"\n",
    "\n",
    "# 使用 GPU 加载原始的 OPT-125m 模型\n",
    "generator = pipeline('text-generation',\n",
    "                     model=model_path,\n",
    "                     device=0,\n",
    "                     do_sample=True,\n",
    "                     num_return_sequences=3)"
   ]
  },
  {
   "cell_type": "code",
   "execution_count": 6,
   "id": "209bae3a-3ade-4fb4-9a0f-f0663d5af4ab",
   "metadata": {},
   "outputs": [
    {
     "data": {
      "text/plain": [
       "[{'generated_text': \"The woman worked as a chef in a restaurant in France.\\n\\n**Based on the text:**\\n\\nThe woman was a chef. She worked at a restaurant in France. She was a part-time chef, doing her job on the weekends. She had been working in that restaurant for three years. Her boss at the time was a famous chef who was also a friend. The woman worked well with other chefs, too, to ensure that everything went smoothly. She was known for her delicious and creative dishes. She was a member of the Association of Chefs in France. The chef was a member of the same association. The chef was known for his expertise in French cuisine. He had been awarded a Michelin star by the time she had started working there. She was a member of the same association as him. The chef was also an expert in international cuisine. He had traveled extensively, having worked in different restaurants in different countries. The chef was also involved in cooking classes for tourists. She was teaching French cuisine at the time. She had a deep passion for cooking. The chef had been cooking for his entire life. He had grown up in a family that had a restaurant in the village. His father had been a chef. His mother had been a cook. They had started the restaurant when he was just six years old. The woman was a big fan of the chef. She had been a regular customer of his restaurant. She loved his creativity and his ability to make people happy with his dishes. She knew that he was a hard worker. She knew that he was always looking for new ways to improve his skills. She knew that he was never satisfied with what he had. She had seen him working tirelessly in the kitchen. She had seen him cooking in his free time. She had seen him doing research to better understand his craft. She knew that he was a perfectionist. She knew that he wasn't afraid to try new things. She knew that he was always looking for ways to improve his recipes. She knew that he was a hard worker. She knew that he was dedicated to his craft. She had seen him working long hours to ensure that everything was perfect for the customers. She had seen him cooking in his free time, learning new techniques and skills. She had seen him experimenting with new ingredients. She had seen him making dishes from scratch. She had seen him working in the kitchen, always eager to learn and improve. She had seen him working in the kitchen, always eager to learn and improve. She had seen him working in the kitchen, always eager to learn and improve. She had seen him cooking in his free time, learning new techniques and skills. She had seen him cooking in his free time, always eager to learn and improve. She had seen him working in the kitchen, always eager to learn and improve. She had seen him working in the kitchen, always eager to learn and improve. She had seen him working in the kitchen, always eager to learn and improve. She had seen him cooking in his free time, always eager to learn and improve. She had seen him cooking in his free time, always eager to learn and improve. She had seen him working in the kitchen, always eager to learn and improve. She had seen him working in the kitchen, always eager to learn and improve. She had seen him working in the kitchen, always eager to learn and improve. She had seen him cooking in his free time, always eager to learn and improve. She had seen him cooking in his free time, always eager to learn and improve. She had seen him working in the kitchen, always eager to learn and improve. She had seen him working in the kitchen, always eager to learn and improve. She had seen him cooking in his free time, always eager to learn and improve. She had seen him cooking in his free time, always eager to learn and improve. She had seen him working in the kitchen, always eager to learn and improve. She had seen him working in the kitchen, always eager to learn and improve. She had seen him cooking in his free time, always eager to learn and improve. She had seen him cooking in his free time, always eager to learn and improve. She had seen him working in the kitchen, always eager to learn and improve. She had seen him working in the kitchen, always eager to learn and improve. She had seen him cooking in his free time, always eager to learn and improve. She had seen him cooking in his free time, always eager to learn and improve. She had seen him working in the kitchen, always eager to learn and improve. She had seen him working in the kitchen, always eager to learn and improve. She had seen him cooking in his free time, always eager to learn and improve. She had seen him cooking in his free time, always eager to learn and improve. She had seen him working in the kitchen, always eager to learn and improve. She had seen him working in the kitchen, always eager to learn and improve. She had seen him cooking in his free time, always eager to learn and improve. She had seen him cooking in his free time, always eager to learn and improve. She had seen him working in the kitchen, always eager to learn and improve. She had seen him working in the kitchen, always eager to learn and improve. She had seen him cooking in his free time, always eager to learn and improve. She had seen him cooking in his free time, always eager to learn and improve. She had seen him working in the kitchen, always eager to learn and improve. She had seen him working in the kitchen, always eager to learn and improve. She had seen him cooking in his free time, always eager to learn and improve. She had seen him cooking in his free time, always eager to learn and improve. She had seen him working in the kitchen, always eager to learn and improve. She had seen him working in the kitchen, always eager to learn and improve. She had seen him cooking in his free time, always eager to learn and improve. She had seen him cooking in his free time, always eager to learn and improve. She had seen him working in the kitchen, always eager to learn and improve. She had seen him working in the kitchen, always eager to learn and improve. She had seen him cooking in his free time, always eager to learn and improve. She had seen him cooking in his free time, always eager to learn and improve. She had seen him working in the kitchen, always eager to learn and improve. She had seen him working in the kitchen, always eager to learn and improve. She had seen him cooking in his free time, always eager to learn and improve. She had seen him cooking in his free time, always eager to learn and improve. She had seen him working in the kitchen, always eager to learn and improve. She had seen him working in the kitchen, always eager to learn and improve. She had seen him cooking in his free time, always eager to learn and improve. She had seen him cooking in his free time, always eager to learn and improve. She had seen him working in the kitchen, always eager to learn and improve. She had seen him working in the kitchen, always eager to learn and improve. She had seen him cooking in his free time, always eager to learn and improve. She had seen him cooking in his free time, always eager to learn and improve. She had seen him working in the kitchen, always eager to learn and improve. She had seen him working in the kitchen, always eager to learn and improve. She had seen him cooking in his free time, always eager to learn and improve. She had seen him cooking in his free time, always eager to learn and improve. She had seen him working in the kitchen, always eager to learn and improve. She had seen him working in the kitchen, always eager to learn and improve. She had seen him cooking in his free time, always eager to learn and improve. She had seen him cooking in his free time, always eager to learn and improve. She had seen him working in the kitchen, always eager to learn and improve. She had seen him working in the kitchen, always eager to learn and improve. She had seen him cooking in his free time, always eager to learn and improve. She had seen him cooking in his free time, always eager to learn and improve. She had seen him working in the kitchen, always eager to learn and improve. She had seen him working in the kitchen, always eager to learn and improve. She had seen him cooking in his free time, always eager to learn and improve. She had seen him cooking in his free time, always eager to learn and improve. She had seen him working in the kitchen, always eager to learn and improve. She had seen him working in the kitchen, always eager to learn and improve. She had seen him cooking in his free time, always eager to learn and improve. She had seen him cooking in his free time, always eager to learn and improve. She had seen him working in the kitchen, always eager to learn and improve. She had seen him working in the kitchen, always eager to learn and improve. She had seen him cooking in his free time, always eager to learn and improve. She had seen him cooking in his free time, always eager to learn and improve. She had seen him working in the kitchen, always eager to learn and improve. She had seen him working in the kitchen, always eager to learn and improve. She had seen him cooking in his free time, always eager to learn and improve. She had seen him cooking in\"},\n",
       " {'generated_text': \"The woman worked as a sales advisor at a local department store. She had been with the company for five years and had worked in several departments before being transferred to the sales department. She had always been passionate about fashion and was particularly drawn to the store's clothing selection.\\n\\n2. B. The man had worked in the same department for 10 years. He had moved up the ranks from a stock clerk to a sales associate and then a sales manager. He had been promoted every 2-3 years since he started.\\n\\n3. C. The woman had just graduated from college and had landed a job at the store as a sales associate. She had been with the company for 6 months and had excelled in her role.\\n\\n4. D. The man had been with the company for 5 years and had been promoted to the position of sales manager within that time. He had been recognized as one of the top sales managers in the store and had received several promotions from there.\\n\\nIn each case, the person had demonstrated their passion for fashion and had worked hard to achieve their goals. They were both highly motivated and committed to their work, and their experiences showed that they were capable of overcoming challenges and achieving success in their respective roles.\"},\n",
       " {'generated_text': \"The woman worked as a nurse at a hospital, but after her husband's sudden death, she struggled to cope with the grief and loss. Her doctor told her that her grief would likely last for the rest of her life, and that she should take time to heal. The woman was hesitant at first, but she eventually decided to talk to her doctor about it. The doctor suggested that she try writing in a journal, and to write about her feelings and memories. The woman was skeptical at first, but she decided to give it a try. She started journaling each day, and it helped her process her grief in a way that was both cathartic and beneficial. She wrote about her husband's love of nature, the memories he shared with her, and the ways that his absence affected her daily life. The woman found that the act of writing brought her comfort and solace, and it helped her to feel like she was making progress. The doctor also suggested that the woman try talk therapy, which she found to be helpful but challenging. She struggled to open up about her feelings, but eventually found a therapist that she could trust and who could help her to work through her grief. The woman found that talking to a therapist allowed her to process her grief in a safe and supportive environment. She felt heard and understood, and she was able to express her emotions in a way that felt authentic and real. Over time, the woman found that the therapy helped her to cope with her grief in various ways. She was able to develop new coping mechanisms, such as meditation and mindfulness practices, which allowed her to find a greater sense of peace and clarity. She also found that talking about her experiences and the memories that she shared with her therapist helped her to process her grief in a more meaningful way. The woman's doctor also suggested that she try mindfulness meditation, which she found to be helpful in reducing her stress and anxiety. The woman started with a brief meditation session once a week, and gradually worked her way up to longer sessions. She found that the meditation helped her to stay present and focused during her journaling and talk therapy sessions. The woman's doctor also suggested that she try other coping mechanisms, such as yoga and dance, which she found to be helpful in reducing her symptoms of depression and anxiety. Overall, the woman found that the combination of journaling, talk therapy, and mindfulness meditation helped her to cope with her grief in a meaningful and sustainable way. The therapy helped her to process her grief in a way that was both healing and productive, and it allowed her to find a greater sense of peace and clarity in her life.\"}]"
      ]
     },
     "execution_count": 6,
     "metadata": {},
     "output_type": "execute_result"
    }
   ],
   "source": [
    "generator(\"The woman worked as a\")"
   ]
  },
  {
   "cell_type": "code",
   "execution_count": 7,
   "id": "b2e9868c-d268-456f-9528-d10e6e38452b",
   "metadata": {},
   "outputs": [
    {
     "data": {
      "text/plain": [
       "[{'generated_text': 'The man worked as a mechanic.'},\n",
       " {'generated_text': \"The man worked as a janitor at the school for many years, and he was known for his impeccable cleaning skills. He was always on time, and he took great pride in his work. He was a quick thinker, and he could quickly put together a cleaning schedule that would get the school cleaned up in no time. He had a great sense of humor, and he always knew how to get a laugh out of his colleagues. His work ethic was unmatched, and he always went above and beyond to ensure the school was clean and tidy. His colleagues loved him, and he was always the first to arrive at the school. He was the type of person who didn't mind working long hours, as long as he was able to leave the school clean and orderly. His wife was a school nurse, and they had been married for many years. She was also a hardworking and dedicated employee, and she often took over his duties when he was on leave. Their children were grown and had families of their own, but they still loved coming to work at the school and spending time with their colleagues. Despite his advanced age, the man was still able to take on a variety of tasks, from cleaning the bathrooms to running the lunchroom. He was always willing to help his colleagues and was often the one to step in when someone needed assistance. The man's colleagues were grateful for his dedication and hard work. They knew that without him, the school would not have been able to maintain such high standards of cleanliness and order. They were proud to work alongside him and thankful to have his expertise and guidance. They often mentioned his impact on the school, from the way he made the students feel comfortable and safe to the way he ensured cleanliness and hygiene in all areas. The man's colleagues knew that he was more than just a janitor. He was a mentor, a friend, and a valued member of the school community. His dedication and hard work had made a lasting impact on the school and on the lives of all those who worked there.\"},\n",
       " {'generated_text': \"The man worked as a janitor at an upscale department store, and the store was located in a high-end neighborhood. The janitor was a hardworking man who had been with the company for over a decade. He had a calm and dignified demeanor, and his work ethic was exemplary. However, one day, the store manager discovered that the janitor had been stealing from the company’s stock. The manager confronted the janitor, and the janitor explained that he had been stealing to keep up his rent payments for his small apartment. The manager was shocked and disgusted by the news. He had been a loyal employee for years, and he could not believe that someone he had trusted with his livelihood would steal from him. The janitor was immediately suspended, and the store manager began to investigate. The investigation led to the discovery that the janitor had been stealing jewelry from the store's display cases. The man had been selling the jewelry to his friends and family, who would use the money to pay for their drugs and alcohol. The store was devastated by the news, and they were forced to close down temporarily. The janitor's wife was devastated by the loss of her husband's livelihood, and she struggled to find a job in the high-end neighborhood. The store manager was faced with a difficult decision, and he decided to fire the janitor. The decision was met with criticism from the store's management and from the local community. The store's reputation was damaged, and the owner became even more cautious about hiring new employees. The janitor's wife was devastated by the loss of her husband's livelihood and by the store's negative reputation. She struggled to find employment, and she eventually moved to a lower-income neighborhood, where she struggled to find a job. The store's reputation remained tarnished for years, and the store manager and the local community continued to criticize the store's management for not being tough on the janitor. The story highlights the importance of having a robust culture of integrity and honesty in any organization. When employees are held to a high standard for work ethic, honesty, and integrity, it strengthens the organization's reputation and builds loyalty among employees. It is also essential to be vigilant about maintaining a culture of integrity and transparency, as any misconduct or non-compliance can have serious consequences, both for individuals involved and for the organization as a whole.\"}]"
      ]
     },
     "execution_count": 7,
     "metadata": {},
     "output_type": "execute_result"
    }
   ],
   "source": [
    "generator(\"The man worked as a\")"
   ]
  },
  {
   "cell_type": "code",
   "execution_count": null,
   "id": "0485bbfc-cc40-4cbe-9329-2a6ddcb8305d",
   "metadata": {},
   "outputs": [],
   "source": []
  },
  {
   "cell_type": "markdown",
   "id": "82dad7ad-1b0c-44d3-906e-a238a38e4e98",
   "metadata": {},
   "source": [
    "# 使用 AutoAWQ 量化模型"
   ]
  },
  {
   "cell_type": "code",
   "execution_count": 8,
   "id": "7366a13d-cfb2-4a4c-a8a2-1031b01923a3",
   "metadata": {
    "scrolled": true
   },
   "outputs": [
    {
     "name": "stderr",
     "output_type": "stream",
     "text": [
      "/root/miniconda3/envs/awqtest/lib/python3.11/site-packages/awq/__init__.py:21: DeprecationWarning: \n",
      "I have left this message as the final dev message to help you transition.\n",
      "\n",
      "Important Notice:\n",
      "- AutoAWQ is officially deprecated and will no longer be maintained.\n",
      "- The last tested configuration used Torch 2.6.0 and Transformers 4.51.3.\n",
      "- If future versions of Transformers break AutoAWQ compatibility, please report the issue to the Transformers project.\n",
      "\n",
      "Alternative:\n",
      "- AutoAWQ has been adopted by the vLLM Project: https://github.com/vllm-project/llm-compressor\n",
      "\n",
      "For further inquiries, feel free to reach out:\n",
      "- X: https://x.com/casper_hansen_\n",
      "- LinkedIn: https://www.linkedin.com/in/casper-hansen-804005170/\n",
      "\n",
      "  warnings.warn(_FINAL_DEV_MESSAGE, category=DeprecationWarning, stacklevel=1)\n"
     ]
    },
    {
     "data": {
      "application/vnd.jupyter.widget-view+json": {
       "model_id": "2d2c22daadbf451bb6cf01bc88e1ce23",
       "version_major": 2,
       "version_minor": 0
      },
      "text/plain": [
       "Fetching 10 files:   0%|          | 0/10 [00:00<?, ?it/s]"
      ]
     },
     "metadata": {},
     "output_type": "display_data"
    },
    {
     "data": {
      "application/vnd.jupyter.widget-view+json": {
       "model_id": "a179834cefd9439983ca7d85d993736d",
       "version_major": 2,
       "version_minor": 0
      },
      "text/plain": [
       "README.md: 0.00B [00:00, ?B/s]"
      ]
     },
     "metadata": {},
     "output_type": "display_data"
    },
    {
     "data": {
      "application/vnd.jupyter.widget-view+json": {
       "model_id": "abab3a8e802b4582b02703c9b16a45b3",
       "version_major": 2,
       "version_minor": 0
      },
      "text/plain": [
       "eval_results.json: 0.00B [00:00, ?B/s]"
      ]
     },
     "metadata": {},
     "output_type": "display_data"
    },
    {
     "data": {
      "application/vnd.jupyter.widget-view+json": {
       "model_id": "54e8863462a5416cb50c3251e566bd35",
       "version_major": 2,
       "version_minor": 0
      },
      "text/plain": [
       ".gitattributes: 0.00B [00:00, ?B/s]"
      ]
     },
     "metadata": {},
     "output_type": "display_data"
    }
   ],
   "source": [
    "from awq import AutoAWQForCausalLM\n",
    "from transformers import AutoTokenizer\n",
    "\n",
    "\n",
    "quant_path = \"models/TinyLlama-1.1B-Chat-v1.0\"\n",
    "quant_config = {\"zero_point\": True, \"q_group_size\": 128, \"w_bit\": 4, \"version\": \"GEMM\"}\n",
    "\n",
    "# 加载模型\n",
    "model = AutoAWQForCausalLM.from_pretrained(model_path, device_map=\"cuda\")\n",
    "tokenizer = AutoTokenizer.from_pretrained(model_path, trust_remote_code=True)"
   ]
  },
  {
   "cell_type": "code",
   "execution_count": 9,
   "id": "f26d19f2-3fc6-4065-b949-c7e0e4db0e54",
   "metadata": {},
   "outputs": [
    {
     "name": "stderr",
     "output_type": "stream",
     "text": [
      "Repo card metadata block was not found. Setting CardData to empty.\n",
      "Token indices sequence length is longer than the specified maximum sequence length for this model (8322 > 2048). Running this sequence through the model will result in indexing errors\n",
      "AWQ: 100%|█████████████████████████████████████████████████████████████████████████████████████████████████████████████████████████████████████████████████████| 22/22 [04:41<00:00, 12.78s/it]\n"
     ]
    }
   ],
   "source": [
    "# 量化模型\n",
    "model.quantize(tokenizer, quant_config=quant_config)"
   ]
  },
  {
   "cell_type": "code",
   "execution_count": 10,
   "id": "ed605b1e-3e5b-4833-acde-fcd550874634",
   "metadata": {},
   "outputs": [
    {
     "data": {
      "text/plain": [
       "{'zero_point': True, 'q_group_size': 128, 'w_bit': 4, 'version': 'GEMM'}"
      ]
     },
     "execution_count": 10,
     "metadata": {},
     "output_type": "execute_result"
    }
   ],
   "source": [
    "quant_config"
   ]
  },
  {
   "cell_type": "code",
   "execution_count": 11,
   "id": "076b0dda-d2f9-4c31-b89e-7cc0a7e91be6",
   "metadata": {},
   "outputs": [],
   "source": [
    "from transformers import AwqConfig, AutoConfig\n",
    "\n",
    "# 修改配置文件以使其与transformers集成兼容\n",
    "quantization_config = AwqConfig(\n",
    "    bits=quant_config[\"w_bit\"],\n",
    "    group_size=quant_config[\"q_group_size\"],\n",
    "    zero_point=quant_config[\"zero_point\"],\n",
    "    version=quant_config[\"version\"].lower(),\n",
    ").to_dict()\n",
    "\n",
    "# 预训练的transformers模型存储在model属性中，我们需要传递一个字典\n",
    "model.model.config.quantization_config = quantization_config"
   ]
  },
  {
   "cell_type": "code",
   "execution_count": 12,
   "id": "509bf1ae-f230-4864-8c87-85477cc64f09",
   "metadata": {},
   "outputs": [
    {
     "data": {
      "text/plain": [
       "('models/TinyLlama-1.1B-Chat-v1.0/tokenizer_config.json',\n",
       " 'models/TinyLlama-1.1B-Chat-v1.0/special_tokens_map.json',\n",
       " 'models/TinyLlama-1.1B-Chat-v1.0/chat_template.jinja',\n",
       " 'models/TinyLlama-1.1B-Chat-v1.0/tokenizer.json')"
      ]
     },
     "execution_count": 12,
     "metadata": {},
     "output_type": "execute_result"
    }
   ],
   "source": [
    "# 保存模型权重\n",
    "model.save_quantized(quant_path)\n",
    "tokenizer.save_pretrained(quant_path)  # 保存分词器"
   ]
  },
  {
   "cell_type": "markdown",
   "id": "5dbcb47f-57e2-4d93-91a8-209b13520b8f",
   "metadata": {},
   "source": [
    "# 使用 GPU 加载量化模型"
   ]
  },
  {
   "cell_type": "code",
   "execution_count": 13,
   "id": "18b7763f-f35c-435b-92e1-50f95f9c0750",
   "metadata": {},
   "outputs": [],
   "source": [
    "from transformers import AutoTokenizer, AutoModelForCausalLM\n",
    "\n",
    "tokenizer = AutoTokenizer.from_pretrained(quant_path)\n",
    "model = AutoModelForCausalLM.from_pretrained(quant_path, device_map=\"cuda\").to(0)"
   ]
  },
  {
   "cell_type": "code",
   "execution_count": 14,
   "id": "605051ed-339e-4103-9083-6c6e0135eb93",
   "metadata": {},
   "outputs": [],
   "source": [
    "def generate_text(text):\n",
    "    inputs = tokenizer(text, return_tensors=\"pt\").to(0)\n",
    "\n",
    "    out = model.generate(**inputs, max_new_tokens=64)\n",
    "    return tokenizer.decode(out[0], skip_special_tokens=True)"
   ]
  },
  {
   "cell_type": "code",
   "execution_count": 15,
   "id": "9e560b3f-2db6-4a2b-adc8-bb91a5c3a125",
   "metadata": {},
   "outputs": [
    {
     "name": "stdout",
     "output_type": "stream",
     "text": [
      "Merry Christmas! I'm glad to here you are doing well. Here is a new version with the background I used for the first one.\n",
      "Thank you so much for that beautiful new background, it perfectly suits the subject of the painting and adds a touch of drama to the scene. It truly makes the painting an artwork rather than just a few\n"
     ]
    }
   ],
   "source": [
    "result = generate_text(\"Merry Christmas! I'm glad to\")\n",
    "print(result)"
   ]
  },
  {
   "cell_type": "code",
   "execution_count": 16,
   "id": "9346a0ba-6d89-4082-9caa-9a74dac8c7b9",
   "metadata": {},
   "outputs": [
    {
     "name": "stdout",
     "output_type": "stream",
     "text": [
      "The woman worked as a waitress on weekdays and a waitress and hostess at weekends. The man was a businessman in his mid-40s with a tattoo on his left forearm. They both wore their regular clothing on all times.\n"
     ]
    }
   ],
   "source": [
    "result = generate_text(\"The woman worked as a\")\n",
    "print(result)"
   ]
  },
  {
   "cell_type": "markdown",
   "id": "ad8d2fa1-4900-4072-a2de-a0aa023c7bf1",
   "metadata": {},
   "source": [
    "# Homework：使用 AWQ 算法量化 Facebook OPT-2.7B 模型\n",
    "### Facebook OPT 模型：https://huggingface.co/facebook?search_models=opt"
   ]
  }
 ],
 "metadata": {
  "kernelspec": {
   "display_name": "Python 3 (ipykernel)",
   "language": "python",
   "name": "python3"
  },
  "language_info": {
   "codemirror_mode": {
    "name": "ipython",
    "version": 3
   },
   "file_extension": ".py",
   "mimetype": "text/x-python",
   "name": "python",
   "nbconvert_exporter": "python",
   "pygments_lexer": "ipython3",
   "version": "3.11.13"
  }
 },
 "nbformat": 4,
 "nbformat_minor": 5
}
